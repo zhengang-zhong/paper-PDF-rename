{
 "cells": [
  {
   "cell_type": "code",
   "execution_count": 1,
   "metadata": {},
   "outputs": [
    {
     "name": "stdout",
     "output_type": "stream",
     "text": [
      "Requirement already satisfied: pdfminer in /Library/Frameworks/Python.framework/Versions/3.7/lib/python3.7/site-packages (20191125)\r\n",
      "Requirement already satisfied: pycryptodome in /Library/Frameworks/Python.framework/Versions/3.7/lib/python3.7/site-packages (from pdfminer) (3.9.8)\r\n"
     ]
    }
   ],
   "source": [
    "!pip install pdfminer"
   ]
  },
  {
   "cell_type": "code",
   "execution_count": 2,
   "metadata": {},
   "outputs": [],
   "source": [
    "from pdfminer.pdfparser import PDFParser\n",
    "from pdfminer.pdfdocument import PDFDocument\n",
    "import os\n",
    "import re"
   ]
  },
  {
   "cell_type": "code",
   "execution_count": 3,
   "metadata": {},
   "outputs": [],
   "source": [
    "def convert_to_str(name):\n",
    "    if isinstance(name,bytes):\n",
    "        return name.decode(\"utf-8\")\n",
    "    else:\n",
    "        return name"
   ]
  },
  {
   "cell_type": "code",
   "execution_count": 4,
   "metadata": {},
   "outputs": [],
   "source": [
    "def replace_char(name):\n",
    "    name=name.replace(\" \",\"_\")\n",
    "    name=name.replace(\"and\",\"_\")\n",
    "    name=name.replace(\":\",\"_\")\n",
    "    name=name.replace(\",\",\"_\")\n",
    "    name=name.replace(\".\",\"_\")\n",
    "    name = re.sub('\\_+', '_', name)\n",
    "    if name[-1] == \"_\":\n",
    "        name = name[:-1]\n",
    "    return name"
   ]
  },
  {
   "cell_type": "code",
   "execution_count": 5,
   "metadata": {},
   "outputs": [
    {
     "name": "stdout",
     "output_type": "stream",
     "text": [
      "['28b41cfc3243a5bba1e2960c3210c8da8f27.pdf', 'Solvent-based post-combustion_CO2_capture_for_power_plants_A_critical_review_and_perspective_on_dynamic_modelling_system_identification_process_control_and_flexible_operation.pdf', 'Efficient decentralized control of the post_combustion_CO2_capture_plant_for_flexible_operation_against_influent_flue_gas_disturbances.pdf', '2014_Dynamic_modelling_and_control_of_MEA_absorption_processes_for_CO2_capture_from_power_plants.pdf', 'IRATJ-02-00023.pdf']\n"
     ]
    }
   ],
   "source": [
    "folder_path = \"/Users/zhengangzhong/Dropbox/PhD/documents/slides/dynamical_system/papers/\"\n",
    "\n",
    "files = os.listdir(folder_path)\n",
    "pdf = []\n",
    "for file in files:\n",
    "    if file[-4:] == \".pdf\":\n",
    "        pdf.append(file)\n",
    "print(pdf)"
   ]
  },
  {
   "cell_type": "markdown",
   "metadata": {},
   "source": [
    "b'...' literals = a sequence of octets"
   ]
  },
  {
   "cell_type": "code",
   "execution_count": 6,
   "metadata": {},
   "outputs": [],
   "source": [
    "for pdf_file in pdf:\n",
    "    file_name = pdf_file\n",
    "    old_name = folder_path + file_name\n",
    "    \n",
    "    fp = open(old_name, 'rb')\n",
    "    parser = PDFParser(fp)\n",
    "    doc = PDFDocument(parser)\n",
    "\n",
    "    new_name = folder_path + \"\"\n",
    "    \n",
    "#     print(doc.info)\n",
    "    if 'CreationDate' in doc.info[0]:\n",
    "        date = convert_to_str(doc.info[0]['CreationDate'])\n",
    "        date = date[2:6]\n",
    "        new_name += date\n",
    "    if 'Author' in doc.info[0]:\n",
    "        author = convert_to_str(doc.info[0]['Author'])\n",
    "        if len(author)!=0:\n",
    "            author = replace_char(author)\n",
    "            new_name += \"_\"\n",
    "            new_name += author\n",
    "        else:\n",
    "            new_name += \"_UNKNOWN\"\n",
    "    if 'Title' in doc.info[0]:\n",
    "        title = convert_to_str(doc.info[0]['Title'])\n",
    "        if len(title)!=0:\n",
    "            title = replace_char(title)\n",
    "            new_name += \"_\"\n",
    "            new_name += title\n",
    "        else:\n",
    "            new_name += \"_UNKNOWN\"\n",
    "    new_name += \".pdf\"\n",
    "    os.rename(old_name, new_name)"
   ]
  }
 ],
 "metadata": {
  "kernelspec": {
   "display_name": "Python 3",
   "language": "python",
   "name": "python3"
  },
  "language_info": {
   "codemirror_mode": {
    "name": "ipython",
    "version": 3
   },
   "file_extension": ".py",
   "mimetype": "text/x-python",
   "name": "python",
   "nbconvert_exporter": "python",
   "pygments_lexer": "ipython3",
   "version": "3.7.7"
  }
 },
 "nbformat": 4,
 "nbformat_minor": 4
}
