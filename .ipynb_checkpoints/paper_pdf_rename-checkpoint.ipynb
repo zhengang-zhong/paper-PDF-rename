{
 "cells": [
  {
   "cell_type": "code",
   "execution_count": 28,
   "metadata": {},
   "outputs": [
    {
     "name": "stdout",
     "output_type": "stream",
     "text": [
      "Requirement already satisfied: pdfminer in /Library/Frameworks/Python.framework/Versions/3.7/lib/python3.7/site-packages (20191125)\n",
      "Requirement already satisfied: pycryptodome in /Library/Frameworks/Python.framework/Versions/3.7/lib/python3.7/site-packages (from pdfminer) (3.9.8)\n",
      "\u001b[33mWARNING: You are using pip version 20.2.4; however, version 20.3.1 is available.\n",
      "You should consider upgrading via the '/Library/Frameworks/Python.framework/Versions/3.7/bin/python3.7 -m pip install --upgrade pip' command.\u001b[0m\n"
     ]
    }
   ],
   "source": [
    "!pip install pdfminer"
   ]
  },
  {
   "cell_type": "code",
   "execution_count": 67,
   "metadata": {},
   "outputs": [],
   "source": [
    "from pdfminer.pdfparser import PDFParser\n",
    "from pdfminer.pdfdocument import PDFDocument\n",
    "import os\n",
    "import re"
   ]
  },
  {
   "cell_type": "code",
   "execution_count": 68,
   "metadata": {},
   "outputs": [],
   "source": [
    "def convert_to_str(name):\n",
    "    if isinstance(name,bytes):\n",
    "        if not name.decode(\"utf-8\",\"ignore\"):\n",
    "            return \"EMPTY\"\n",
    "        else:\n",
    "            return name.decode(\"utf-8\",\"ignore\")\n",
    "    else:\n",
    "        return name"
   ]
  },
  {
   "cell_type": "code",
   "execution_count": 69,
   "metadata": {},
   "outputs": [],
   "source": [
    "def replace_char(name):\n",
    "    name=name.replace(\" \",\"_\")\n",
    "    name=name.replace(\"and\",\"_\")\n",
    "    name=name.replace(\":\",\"_\")\n",
    "    name=name.replace(\",\",\"_\")\n",
    "    name=name.replace(\".\",\"_\")\n",
    "    name = re.sub('\\_+', '_', name)\n",
    "    if name[-1] == \"_\":\n",
    "        name = name[:-1]\n",
    "    return name"
   ]
  },
  {
   "cell_type": "code",
   "execution_count": 73,
   "metadata": {},
   "outputs": [
    {
     "name": "stdout",
     "output_type": "stream",
     "text": [
      "['2010_IJR371999_1_31.pdf', '2007.06823.pdf', '.pdf', '1507.01526v1.pdf', '2002_PII_0005-1098(93)90122-A.pdf', '2020_Stefano_Sarao_Mannelli_Giulio_Biroli_Chiara_Cammarota_Florent_Krzakala_Lenka_Zdeborov_Who_is_Afraid_of_Big_Bad_Minima?_Analysis_of_gradient-flow_in_spiked_matrix-tensor_models.pdf', '2020.pdf', '2013_Davide_Martino_Raimondo_Min-max_Model_Predictive_Control_of_Nonlinear_Systems_A_Unifying_Overview_on_Stability.pdf', '2007_Ravi_Gondhalekar_STRONG_FEASIBILITY_IN_INPUT-MOVE-BLOCKING_MODEL_PREDICTIVE_CONTROL.pdf', '2004_IEEE_Controllability_observability_of_linear_systems_some_noninvariant_aspects_-_Education_IEEE_Transactions_on.pdf', '2009_Kolda_T_Bader_B_Tensor_Decompositions_Applications.pdf', '1905.12385.pdf', '2020_UNKNOWN_UNKNOWN.pdf', '1999_D. Q. Mayne_Constrained_model_predictive_control_Stability_and_optimality.pdf', '2017_A_Zanelli_FORCES_NLP_an_efficient_implementation_of_interior-point_methods_for_multistage_nonlinear_nonconvex.pdf']\n"
     ]
    }
   ],
   "source": [
    "folder_path = \"/Users/zhengangzhong/Dropbox/PhD/reading_materials/papers/\"\n",
    "\n",
    "files = os.listdir(folder_path)\n",
    "pdf = []\n",
    "for file in files:\n",
    "    if file[-4:] == \".pdf\":\n",
    "        pdf.append(file)\n",
    "print(pdf)"
   ]
  },
  {
   "cell_type": "markdown",
   "metadata": {},
   "source": [
    "b'...' literals = a sequence of octets"
   ]
  },
  {
   "cell_type": "code",
   "execution_count": 75,
   "metadata": {},
   "outputs": [
    {
     "name": "stdout",
     "output_type": "stream",
     "text": [
      "2007.06823.pdf\n",
      "{'Author': b'\\xfe\\xff\\x00L\\x00a\\x00u\\x00r\\x00e\\x00n\\x00t\\x00 \\x00V\\x00a\\x00l\\x00e\\x00n\\x00t\\x00i\\x00n\\x00 \\x00J\\x00o\\x00s\\x00p\\x00i\\x00n\\x00,\\x00 \\x00W\\x00r\\x00a\\x00y\\x00 \\x00B\\x00u\\x00n\\x00t\\x00i\\x00n\\x00e\\x00,\\x00 \\x00F\\x00a\\x00r\\x00i\\x00d\\x00 \\x00B\\x00o\\x00u\\x00s\\x00s\\x00a\\x00i\\x00d\\x00,\\x00 \\x00H\\x00a\\x00m\\x00i\\x00d\\x00 \\x00L\\x00a\\x00g\\x00a\\x00,\\x00 \\x00a\\x00n\\x00d\\x00 \\x00M\\x00o\\x00h\\x00a\\x00m\\x00m\\x00e\\x00d\\x00 \\x00B\\x00e\\x00n\\x00n\\x00a\\x00m\\x00o\\x00u\\x00n', 'CreationDate': b'D:20200715003355Z', 'Creator': b'\\xfe\\xff\\x00L\\x00a\\x00T\\x00e\\x00X\\x00 \\x00w\\x00i\\x00t\\x00h\\x00 \\x00a\\x00c\\x00m\\x00a\\x00r\\x00t\\x00 \\x002\\x000\\x002\\x000\\x00/\\x000\\x002\\x00/\\x000\\x008\\x00 \\x00v\\x001\\x00.\\x006\\x009\\x00 \\x00T\\x00y\\x00p\\x00e\\x00s\\x00e\\x00t\\x00t\\x00i\\x00n\\x00g\\x00 \\x00a\\x00r\\x00t\\x00i\\x00c\\x00l\\x00e\\x00s\\x00 \\x00f\\x00o\\x00r\\x00 \\x00t\\x00h\\x00e\\x00 \\x00A\\x00s\\x00s\\x00o\\x00c\\x00i\\x00a\\x00t\\x00i\\x00o\\x00n\\x00 \\x00f\\x00o\\x00r\\x00 \\x00C\\x00o\\x00m\\x00p\\x00u\\x00t\\x00i\\x00n\\x00g\\x00 \\x00M\\x00a\\x00c\\x00h\\x00i\\x00n\\x00e\\x00r\\x00y\\x00 \\x00a\\x00n\\x00d\\x00 \\x00h\\x00y\\x00p\\x00e\\x00r\\x00r\\x00e\\x00f\\x00 \\x002\\x000\\x001\\x006\\x00/\\x000\\x006\\x00/\\x002\\x004\\x00 \\x00v\\x006\\x00.\\x008\\x003\\x00q\\x00 \\x00H\\x00y\\x00p\\x00e\\x00r\\x00t\\x00e\\x00x\\x00t\\x00 \\x00l\\x00i\\x00n\\x00k\\x00s\\x00 \\x00f\\x00o\\x00r\\x00 \\x00L\\x00a\\x00T\\x00e\\x00X', 'Keywords': b'\\xfe\\xff\\x00B\\x00a\\x00y\\x00e\\x00s\\x00i\\x00a\\x00n\\x00 \\x00m\\x00e\\x00t\\x00h\\x00o\\x00d\\x00s\\x00,\\x00 \\x00B\\x00a\\x00y\\x00e\\x00s\\x00i\\x00a\\x00n\\x00 \\x00D\\x00e\\x00e\\x00p\\x00 \\x00L\\x00e\\x00a\\x00r\\x00n\\x00i\\x00n\\x00g\\x00,\\x00 \\x00A\\x00p\\x00p\\x00r\\x00o\\x00x\\x00i\\x00m\\x00a\\x00t\\x00e\\x00 \\x00B\\x00a\\x00y\\x00e\\x00s\\x00i\\x00a\\x00n\\x00 \\x00m\\x00e\\x00t\\x00h\\x00o\\x00d\\x00s', 'ModDate': b'D:20200715003355Z', 'PTEX.Fullbanner': b'This is pdfTeX, Version 3.14159265-2.6-1.40.17 (TeX Live 2016) kpathsea version 6.2.2', 'Producer': b'pdfTeX-1.40.17', 'Subject': b'\\xfe\\xff\\x00-\\x00 \\x00 \\x00M\\x00a\\x00t\\x00h\\x00e\\x00m\\x00a\\x00t\\x00i\\x00c\\x00s\\x00 \\x00o\\x00f\\x00 \\x00c\\x00o\\x00m\\x00p\\x00u\\x00t\\x00i\\x00n\\x00g\\x00 \\x00 \\x00-\\x00>\\x00 \\x00 \\x00P\\x00r\\x00o\\x00b\\x00a\\x00b\\x00i\\x00l\\x00i\\x00t\\x00y\\x00 \\x00a\\x00n\\x00d\\x00 \\x00s\\x00t\\x00a\\x00t\\x00i\\x00s\\x00t\\x00i\\x00c\\x00s\\x00.\\x00-\\x00 \\x00 \\x00C\\x00o\\x00m\\x00p\\x00u\\x00t\\x00i\\x00n\\x00g\\x00 \\x00m\\x00e\\x00t\\x00h\\x00o\\x00d\\x00o\\x00l\\x00o\\x00g\\x00i\\x00e\\x00s\\x00 \\x00 \\x00-\\x00>\\x00 \\x00 \\x00N\\x00e\\x00u\\x00r\\x00a\\x00l\\x00 \\x00n\\x00e\\x00t\\x00w\\x00o\\x00r\\x00k\\x00s\\x00.\\x00B\\x00a\\x00y\\x00e\\x00s\\x00i\\x00a\\x00n\\x00 \\x00n\\x00e\\x00t\\x00w\\x00o\\x00r\\x00k\\x00 \\x00m\\x00o\\x00d\\x00e\\x00l\\x00s\\x00.\\x00E\\x00n\\x00s\\x00e\\x00m\\x00b\\x00l\\x00e\\x00 \\x00m\\x00e\\x00t\\x00h\\x00o\\x00d\\x00s\\x00.\\x00R\\x00e\\x00g\\x00u\\x00l\\x00a\\x00r\\x00i\\x00z\\x00a\\x00t\\x00i\\x00o\\x00n\\x00.', 'Title': b'\\xfe\\xff\\x00H\\x00a\\x00n\\x00d\\x00s\\x00-\\x00o\\x00n\\x00 \\x00B\\x00a\\x00y\\x00e\\x00s\\x00i\\x00a\\x00n\\x00 \\x00N\\x00e\\x00u\\x00r\\x00a\\x00l\\x00 \\x00N\\x00e\\x00t\\x00w\\x00o\\x00r\\x00k\\x00s\\x00 \\x00-\\x00 \\x00a\\x00 \\x00T\\x00u\\x00t\\x00o\\x00r\\x00i\\x00a\\x00l\\x00 \\x00f\\x00o\\x00r\\x00 \\x00D\\x00e\\x00e\\x00p\\x00 \\x00L\\x00e\\x00a\\x00r\\x00n\\x00i\\x00n\\x00g\\x00 \\x00U\\x00s\\x00e\\x00r\\x00s', 'Trapped': /'False'}\n",
      "/Users/zhengangzhong/Dropbox/PhD/reading_materials/papers/2020_\u0000L\u0000a\u0000u\u0000r\u0000e\u0000n\u0000t\u0000_\u0000V\u0000a\u0000l\u0000e\u0000n\u0000t\u0000i\u0000n\u0000_\u0000J\u0000o\u0000s\u0000p\u0000i\u0000n\u0000_\u0000_\u0000W\u0000r\u0000a\u0000y\u0000_\u0000B\u0000u\u0000n\u0000t\u0000i\u0000n\u0000e\u0000_\u0000_\u0000F\u0000a\u0000r\u0000i\u0000d\u0000_\u0000B\u0000o\u0000u\u0000s\u0000s\u0000a\u0000i\u0000d\u0000_\u0000_\u0000H\u0000a\u0000m\u0000i\u0000d\u0000_\u0000L\u0000a\u0000g\u0000a\u0000_\u0000_\u0000a\u0000n\u0000d\u0000_\u0000M\u0000o\u0000h\u0000a\u0000m\u0000m\u0000e\u0000d\u0000_\u0000B\u0000e\u0000n\u0000n\u0000a\u0000m\u0000o\u0000u\u0000n_\u0000H\u0000a\u0000n\u0000d\u0000s\u0000-\u0000o\u0000n\u0000_\u0000B\u0000a\u0000y\u0000e\u0000s\u0000i\u0000a\u0000n\u0000_\u0000N\u0000e\u0000u\u0000r\u0000a\u0000l\u0000_\u0000N\u0000e\u0000t\u0000w\u0000o\u0000r\u0000k\u0000s\u0000_\u0000-\u0000_\u0000a\u0000_\u0000T\u0000u\u0000t\u0000o\u0000r\u0000i\u0000a\u0000l\u0000_\u0000f\u0000o\u0000r\u0000_\u0000D\u0000e\u0000e\u0000p\u0000_\u0000L\u0000e\u0000a\u0000r\u0000n\u0000i\u0000n\u0000g\u0000_\u0000U\u0000s\u0000e\u0000r\u0000s.pdf\n",
      "/Users/zhengangzhong/Dropbox/PhD/reading_materials/papers/2007.06823.pdf\n"
     ]
    },
    {
     "ename": "ValueError",
     "evalue": "embedded null byte",
     "output_type": "error",
     "traceback": [
      "\u001b[0;31m---------------------------------------------------------------------------\u001b[0m",
      "\u001b[0;31mValueError\u001b[0m                                Traceback (most recent call last)",
      "\u001b[0;32m<ipython-input-75-4d33f6d8127d>\u001b[0m in \u001b[0;36m<module>\u001b[0;34m\u001b[0m\n\u001b[1;32m     36\u001b[0m     \u001b[0mprint\u001b[0m\u001b[0;34m(\u001b[0m\u001b[0mnew_name\u001b[0m\u001b[0;34m)\u001b[0m\u001b[0;34m\u001b[0m\u001b[0;34m\u001b[0m\u001b[0m\n\u001b[1;32m     37\u001b[0m     \u001b[0mprint\u001b[0m\u001b[0;34m(\u001b[0m\u001b[0mold_name\u001b[0m\u001b[0;34m)\u001b[0m\u001b[0;34m\u001b[0m\u001b[0;34m\u001b[0m\u001b[0m\n\u001b[0;32m---> 38\u001b[0;31m     \u001b[0mos\u001b[0m\u001b[0;34m.\u001b[0m\u001b[0mrename\u001b[0m\u001b[0;34m(\u001b[0m\u001b[0mold_name\u001b[0m\u001b[0;34m,\u001b[0m \u001b[0mnew_name\u001b[0m\u001b[0;34m)\u001b[0m\u001b[0;34m\u001b[0m\u001b[0;34m\u001b[0m\u001b[0m\n\u001b[0m",
      "\u001b[0;31mValueError\u001b[0m: embedded null byte"
     ]
    }
   ],
   "source": [
    "for pdf_file in pdf:\n",
    "    file_name = pdf_file\n",
    "#     if re.match(r'^[0-9]{4}_', file_name[0:5]) is not None and file_name[5] == \"_\":    \n",
    "    if re.match(r'^[0-9]{4}_', file_name[0:5]) is not None:\n",
    "        continue\n",
    "    old_name = folder_path + file_name\n",
    "    \n",
    "    fp = open(old_name, 'rb')\n",
    "    parser = PDFParser(fp)\n",
    "    doc = PDFDocument(parser)\n",
    "\n",
    "    new_name = folder_path + \"\"\n",
    "    print(file_name)\n",
    "    print(doc.info[0])\n",
    "    if 'CreationDate' in doc.info[0]:\n",
    "        date = convert_to_str(doc.info[0]['CreationDate'])\n",
    "        date = date[2:6]\n",
    "        new_name += date\n",
    "    if 'Author' in doc.info[0]:\n",
    "        author = convert_to_str(doc.info[0]['Author'])\n",
    "        if len(author)!=0:\n",
    "            author = replace_char(author)\n",
    "            new_name += \"_\"\n",
    "            new_name += author\n",
    "        else:\n",
    "            new_name += \"_UNKNOWN\"\n",
    "    if 'Title' in doc.info[0]:\n",
    "        title = convert_to_str(doc.info[0]['Title'])\n",
    "        if len(title)!=0:\n",
    "            title = replace_char(title)\n",
    "            new_name += \"_\"\n",
    "            new_name += title\n",
    "        else:\n",
    "            new_name += \"_UNKNOWN\"\n",
    "    new_name += \".pdf\"\n",
    "    print(new_name)\n",
    "    print(old_name)\n",
    "    os.rename(old_name, new_name)"
   ]
  },
  {
   "cell_type": "code",
   "execution_count": null,
   "metadata": {},
   "outputs": [],
   "source": []
  }
 ],
 "metadata": {
  "kernelspec": {
   "display_name": "Python 3",
   "language": "python",
   "name": "python3"
  },
  "language_info": {
   "codemirror_mode": {
    "name": "ipython",
    "version": 3
   },
   "file_extension": ".py",
   "mimetype": "text/x-python",
   "name": "python",
   "nbconvert_exporter": "python",
   "pygments_lexer": "ipython3",
   "version": "3.7.7"
  }
 },
 "nbformat": 4,
 "nbformat_minor": 4
}
