{
 "cells": [
  {
   "cell_type": "code",
   "execution_count": 28,
   "metadata": {},
   "outputs": [
    {
     "name": "stdout",
     "output_type": "stream",
     "text": [
      "Requirement already satisfied: pdfminer in /Library/Frameworks/Python.framework/Versions/3.7/lib/python3.7/site-packages (20191125)\n",
      "Requirement already satisfied: pycryptodome in /Library/Frameworks/Python.framework/Versions/3.7/lib/python3.7/site-packages (from pdfminer) (3.9.8)\n",
      "\u001b[33mWARNING: You are using pip version 20.2.4; however, version 20.3.1 is available.\n",
      "You should consider upgrading via the '/Library/Frameworks/Python.framework/Versions/3.7/bin/python3.7 -m pip install --upgrade pip' command.\u001b[0m\n"
     ]
    }
   ],
   "source": [
    "!pip install pdfminer"
   ]
  },
  {
   "cell_type": "code",
   "execution_count": 3,
   "metadata": {},
   "outputs": [],
   "source": [
    "from pdfminer.pdfparser import PDFParser\n",
    "from pdfminer.pdfdocument import PDFDocument\n",
    "import os\n",
    "import re"
   ]
  },
  {
   "cell_type": "code",
   "execution_count": 4,
   "metadata": {},
   "outputs": [],
   "source": [
    "def convert_to_str(name):\n",
    "    if isinstance(name,bytes):\n",
    "        if not name.decode(\"utf-8\",\"ignore\"):\n",
    "            return \"EMPTY\"\n",
    "        else:\n",
    "            return name.decode(\"utf-8\",\"ignore\")\n",
    "    else:\n",
    "        return name"
   ]
  },
  {
   "cell_type": "code",
   "execution_count": 5,
   "metadata": {},
   "outputs": [],
   "source": [
    "def replace_char(name):\n",
    "    name=name.replace(\" \",\"_\")\n",
    "    name=name.replace(\"and\",\"_\")\n",
    "    name=name.replace(\":\",\"_\")\n",
    "    name=name.replace(\",\",\"_\")\n",
    "    name=name.replace(\".\",\"_\")\n",
    "    name = re.sub(r'_+', '_', name)\n",
    "    if name[-1] == \"_\":\n",
    "        name = name[:-1]\n",
    "    return name"
   ]
  },
  {
   "cell_type": "code",
   "execution_count": 10,
   "metadata": {},
   "outputs": [
    {
     "name": "stdout",
     "output_type": "stream",
     "text": [
      "['2019_EMPTY_EMPTY.pdf', '2010_IJR371999_1_31.pdf', '2020_Laurent_Valentin_Jospin_Wray_Buntine_Farid_Boussaid_Hamid_Laga_and_Mohammed_Bennamoun_Hands-on_Bayesian_Neural_Networks_-_a_Tutorial_for_Deep_Learning_Users.pdf', '2002_PII_0005-1098(93)90122-A.pdf', '2020_Stefano_Sarao_Mannelli_Giulio_Biroli_Chiara_Cammarota_Florent_Krzakala_Lenka_Zdeborov_Who_is_Afraid_of_Big_Bad_Minima?_Analysis_of_gradient-flow_in_spiked_matrix-tensor_models.pdf', '2020.pdf', '2013_Davide_Martino_Raimondo_Min-max_Model_Predictive_Control_of_Nonlinear_Systems_A_Unifying_Overview_on_Stability.pdf', '2000_PII_S0005-1098(99)00214-9.pdf', '2020_EMPTY_EMPTY.pdf', '2007_Ravi_Gondhalekar_STRONG_FEASIBILITY_IN_INPUT-MOVE-BLOCKING_MODEL_PREDICTIVE_CONTROL.pdf', '2004_IEEE_Controllability_observability_of_linear_systems_some_noninvariant_aspects_-_Education_IEEE_Transactions_on.pdf', 'MANUALLY_RENAME.pdf', '2009_Kolda_T_Bader_B_Tensor_Decompositions_Applications.pdf', '2015_EMPTY_EMPTY.pdf', '2017_A_Zanelli_FORCES_NLP_an_efficient_implementation_of_interior-point_methods_for_multistage_nonlinear_nonconvex.pdf']\n"
     ]
    }
   ],
   "source": [
    "folder_path = \"/Users/zhengangzhong/Dropbox/PhD/reading_materials/papers/\"\n",
    "\n",
    "files = os.listdir(folder_path)\n",
    "pdf = []\n",
    "for file in files:\n",
    "    if file[-4:] == \".pdf\":\n",
    "        pdf.append(file)\n",
    "print(pdf)"
   ]
  },
  {
   "cell_type": "markdown",
   "metadata": {},
   "source": [
    "b'...' literals = a sequence of octets"
   ]
  },
  {
   "cell_type": "code",
   "execution_count": 11,
   "metadata": {},
   "outputs": [
    {
     "name": "stdout",
     "output_type": "stream",
     "text": [
      "2020.pdf\n",
      "{'CreationDate': b'D:20200415011250Z', 'Creator': b'TeX', 'ModDate': b'D:20200415011250Z', 'PTEX.Fullbanner': b'This is pdfTeX, Version 3.14159265-2.6-1.40.17 (TeX Live 2016) kpathsea version 6.2.2', 'Producer': b'pdfTeX-1.40.17', 'Trapped': /'False'}\n",
      "MANUALLY_RENAME.pdf\n",
      "{}\n"
     ]
    }
   ],
   "source": [
    "for pdf_file in pdf:\n",
    "    file_name = pdf_file\n",
    "#     if re.match(r'^[0-9]{4}_', file_name[0:5]) is not None and file_name[5] == \"_\":    \n",
    "    if re.match(r'^[0-9]{4}_', file_name[0:5]) is not None:\n",
    "        continue\n",
    "    old_name = folder_path + file_name\n",
    "    \n",
    "    fp = open(old_name, 'rb')\n",
    "    parser = PDFParser(fp)\n",
    "    doc = PDFDocument(parser)\n",
    "\n",
    "    new_name = folder_path + \"\"\n",
    "    print(file_name)\n",
    "    print(doc.info[0])\n",
    "    if 'CreationDate' in doc.info[0]:\n",
    "        date = convert_to_str(doc.info[0]['CreationDate'])\n",
    "        date = date[2:6]\n",
    "        new_name += date\n",
    "    if 'Author' in doc.info[0]:\n",
    "        author = convert_to_str(doc.info[0]['Author'])\n",
    "        if len(author)!=0:\n",
    "            author = replace_char(author)\n",
    "            new_name += \"_\"\n",
    "            new_name += author\n",
    "        else:\n",
    "            new_name += \"_UNKNOWN\"\n",
    "    if 'Title' in doc.info[0]:\n",
    "        title = convert_to_str(doc.info[0]['Title'])\n",
    "        if len(title)!=0:\n",
    "            title = replace_char(title)\n",
    "            new_name += \"_\"\n",
    "            new_name += title\n",
    "        else:\n",
    "            new_name += \"_UNKNOWN\"\n",
    "    if new_name == folder_path:\n",
    "        new_name += \"MANUALLY_RENAME\"\n",
    "    new_name += \".pdf\"\n",
    "    \n",
    "    if \"\\x00\" in new_name:\n",
    "        new_name = re.sub(\"\\x00\",\"\",new_name)\n",
    "    new_name = re.sub(r'_+', '_', new_name)\n",
    "    os.rename(old_name, new_name)"
   ]
  }
 ],
 "metadata": {
  "kernelspec": {
   "display_name": "Python 3",
   "language": "python",
   "name": "python3"
  },
  "language_info": {
   "codemirror_mode": {
    "name": "ipython",
    "version": 3
   },
   "file_extension": ".py",
   "mimetype": "text/x-python",
   "name": "python",
   "nbconvert_exporter": "python",
   "pygments_lexer": "ipython3",
   "version": "3.7.7"
  }
 },
 "nbformat": 4,
 "nbformat_minor": 4
}
